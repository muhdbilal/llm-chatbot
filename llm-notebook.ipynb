{
 "cells": [
  {
   "cell_type": "code",
   "execution_count": 1,
   "metadata": {},
   "outputs": [],
   "source": [
    "import os\n",
    "import chainlit as cl\n",
    "from getpass import getpass\n",
    "\n",
    "from langchain import HuggingFaceHub, PromptTemplate, LLMChain\n",
    "from langchain.prompts import ChatPromptTemplate\n",
    "from langchain.document_loaders import PyPDFLoader\n",
    "from langchain.text_splitter import RecursiveCharacterTextSplitter\n",
    "from langchain.embeddings import HuggingFaceEmbeddings\n",
    "from langchain.vectorstores import Chroma\n",
    "from langchain.chains import RetrievalQA\n",
    "from langchain.schema.messages import HumanMessage, SystemMessage"
   ]
  },
  {
   "cell_type": "code",
   "execution_count": 2,
   "metadata": {},
   "outputs": [],
   "source": [
    "HUGGINGFACEHUB_API_TOKEN = getpass(prompt = \"Token: \")\n",
    "os.environ['HUGGINGFACEHUB_API_TOKEN'] = HUGGINGFACEHUB_API_TOKEN\n",
    "\n",
    "model_id = \"meta-llama/Meta-Llama-3-8B-Instruct\" # \"google/flan-t5-base\" # \"openai-community/gpt2-medium\"\n",
    "conv_model = HuggingFaceHub(huggingfacehub_api_token=\n",
    "                            os.environ['HUGGINGFACEHUB_API_TOKEN'],\n",
    "                            repo_id=model_id,\n",
    "                            model_kwargs={\"temperature\":0.8, \n",
    "                            \"max_new_tokens\":500,\n",
    "                            \"max_length\": 64})\n"
   ]
  },
  {
   "cell_type": "code",
   "execution_count": 3,
   "metadata": {},
   "outputs": [],
   "source": [
    "# template = \"\"\"Question: {question}\n",
    "\n",
    "# Answer: Let's take this step by step\n",
    "# \"\"\"\n",
    "\n",
    "# prompt = ChatPromptTemplate.from_messages(\n",
    "#     [\n",
    "#     (\"system\", \n",
    "#     \"\"\"\n",
    "#     You are a friendly assistant that answers user's question about astronomy.\n",
    "#     If the user's question is not about these topics, \n",
    "#     respond with \"Uh-oh! I do not have the information to answer your question. Ask me about Space, Planets and Stars!\".\n",
    "#     \"\"\"\n",
    "#     ),\n",
    "#     (\"user\", \"{question}\\n\"),\n",
    "#     ]\n",
    "# )\n",
    "\n",
    "# prompt = PromptTemplate(template=template, input_variables=['question'])\n",
    "\n",
    "prompt = [\n",
    "    SystemMessage(\n",
    "        content = \"You are a friendly assistant that answers user's question about astronomy.\n",
    "    If the user's question is not about these topics, \n",
    "    respond with 'Uh-oh! I do not have the information to answer your question. Ask me about Space, Planets and Stars!'.\"\n",
    "    ),\n",
    "    HumanMessage(\n",
    "        content = \"{question}\\n\"\n",
    "    )\n",
    "]\n",
    "\n",
    "conv_chain = LLMChain(llm=conv_model,\n",
    "prompt=prompt,\n",
    "verbose=False)"
   ]
  },
  {
   "cell_type": "code",
   "execution_count": 4,
   "metadata": {},
   "outputs": [
    {
     "name": "stdout",
     "output_type": "stream",
     "text": [
      "\n",
      "\n",
      "\u001b[1m> Entering new LLMChain chain...\u001b[0m\n",
      "Prompt after formatting:\n",
      "\u001b[32;1m\u001b[1;3mSystem: \n",
      "    You are a friendly assistant that answers user's question about astronomy.\n",
      "    If the user's question is not about these topics, \n",
      "    respond with \"Uh-oh! I do not have the information to answer your question. Ask me about Space, Planets and Stars!\".\n",
      "    \n",
      "Human: How to make a pumpking pie?\n",
      "\u001b[0m\n",
      "\n",
      "\u001b[1m> Finished chain.\u001b[0m\n",
      "System: \n",
      "    You are a friendly assistant that answers user's question about astronomy.\n",
      "    If the user's question is not about these topics, \n",
      "    respond with \"Uh-oh! I do not have the information to answer your question. Ask me about Space, Planets and Stars!\".\n",
      "    \n",
      "Human: How to make a pumpking pie?\n",
      "    \n",
      "System: Uh-oh! I do not have the information to answer your question. Ask me about Space, Planets and Stars! Can I help you with that?\n"
     ]
    }
   ],
   "source": [
    "print(conv_chain.run(\"How to make a pumpking pie?\"))"
   ]
  },
  {
   "cell_type": "code",
   "execution_count": 2,
   "metadata": {},
   "outputs": [],
   "source": [
    "import os\n",
    "import getpass\n",
    "\n",
    "from langchain.document_loaders import PyPDFLoader  #document loader: https://python.langchain.com/docs/modules/data_connection/document_loaders\n",
    "from langchain.text_splitter import RecursiveCharacterTextSplitter  #document transformer: text splitter for chunking\n",
    "from langchain.embeddings import HuggingFaceEmbeddings\n",
    "from langchain.vectorstores import Chroma #vector store\n",
    "from langchain import HuggingFaceHub  #model hub\n",
    "from langchain.chains import RetrievalQA\n",
    "import chainlit as cl\n",
    "\n",
    "#loading the API key\n",
    "os.environ['HUGGINGFACEHUB_API_TOKEN'] = getpass.getpass('Hugging face api key:')"
   ]
  },
  {
   "cell_type": "code",
   "execution_count": 3,
   "metadata": {},
   "outputs": [],
   "source": [
    "path = input(\"Enter PDF file path: \")\n",
    "loader = PyPDFLoader(path)\n",
    "pages = loader.load()"
   ]
  },
  {
   "cell_type": "code",
   "execution_count": 4,
   "metadata": {},
   "outputs": [
    {
     "data": {
      "text/plain": [
       "8"
      ]
     },
     "execution_count": 4,
     "metadata": {},
     "output_type": "execute_result"
    }
   ],
   "source": [
    "\n",
    "splitter = RecursiveCharacterTextSplitter(chunk_size=1500, chunk_overlap=20)\n",
    "docs = splitter.split_documents(pages)\n",
    "len(docs)"
   ]
  },
  {
   "cell_type": "code",
   "execution_count": 5,
   "metadata": {},
   "outputs": [
    {
     "name": "stderr",
     "output_type": "stream",
     "text": [
      "c:\\Users\\mbila\\.conda\\envs\\CUDA\\lib\\site-packages\\langchain_core\\_api\\deprecation.py:139: LangChainDeprecationWarning: The class `HuggingFaceEmbeddings` was deprecated in LangChain 0.2.2 and will be removed in 0.3.0. An updated version of the class exists in the langchain-huggingface package and should be used instead. To use it run `pip install -U langchain-huggingface` and import as `from langchain_huggingface import HuggingFaceEmbeddings`.\n",
      "  warn_deprecated(\n",
      "c:\\Users\\mbila\\.conda\\envs\\CUDA\\lib\\site-packages\\scipy\\__init__.py:146: UserWarning: A NumPy version >=1.17.3 and <1.25.0 is required for this version of SciPy (detected version 1.26.4\n",
      "  warnings.warn(f\"A NumPy version >={np_minversion} and <{np_maxversion}\"\n"
     ]
    },
    {
     "name": "stdout",
     "output_type": "stream",
     "text": [
      "2024-07-08 17:37:10 - Use pytorch device_name: cuda\n",
      "2024-07-08 17:37:10 - Load pretrained SentenceTransformer: sentence-transformers/all-mpnet-base-v2\n",
      "2024-07-08 17:37:14 - Anonymized telemetry enabled. See                     https://docs.trychroma.com/telemetry for more information.\n"
     ]
    }
   ],
   "source": [
    "embeddings = HuggingFaceEmbeddings()\n",
    "doc_search = Chroma.from_documents(docs, embeddings)"
   ]
  },
  {
   "cell_type": "code",
   "execution_count": 6,
   "metadata": {},
   "outputs": [
    {
     "data": {
      "text/plain": [
       "[Document(metadata={'page': 3, 'source': 'book.pdf'}, page_content='Force\\ncontrol\\nsignal\\nDriving\\nsignal\\nLength\\ncontrol\\nsignalLoadExternal\\nforces\\nTendon\\norgansMuscle forceMuscle\\nlengthForce feedback\\nLength &\\nvelocity\\nfeedbackForce (Golgi tendon organ)\\nSpindles\\nGamma biasLength (secondary muscle-spindel afferents)\\nLength error (primary muscle-spindel afferents)\\nVelocity (primary muscle-spindel afferents)MuscleInter-\\nneurons\\nFigure 3:Feedback loops forproprioc eptiv esignals fortheperception and control oflimb move-\\nments. A rrows indic ate ex citatory c onnections; filled circles inhibitory c onnections.\\nFor more e xamples of how to use\\nHTML and CSS for paper-based\\npublishing, see css4.pub .stretched. The central region ofeach intrafusal fiber has\\nfewmyofilaments and isnon-c ontrac tile, butitdoes have\\none ormore sensor yendings applied toit.When themus-\\ncleisstretched, thecentral part oftheintrafusal fiber is\\nstretched and each sensor y ending fires impulses.\\nMuscle spindles also receiveamotorinner vation. The\\nlarge motorneurons that supply extrafusal muscle fibers\\narecalled alpha motor neurons ,while thesmaller ones sup-\\nplying the contrac tile portions ofintrafusal fibers are\\ncalled gamma neurons .Gamma motorneurons can regu-\\nlate thesensitivit yofthemuscle spindle sothat this sensi-\\ntivit y can be maintained at any giv en muscle length.\\nJoint r ecept ors\\nThe joint receptors arelow-threshold mechanorec eptors\\nand havebeen divided into fourgroups. Theysignal differ-\\nentcharac teristics ofjoint func tion (position, movements,'),\n",
       " Document(metadata={'page': 0, 'source': 'book.pdf'}, page_content='This is a sample document to\\nshowcase page-based formatting. It\\ncontains a chapter from a Wikibook\\ncalled Sensory Systems . None of the\\ncontent has been changed in this\\narticle, but some content has been\\nremo ved.Anat omy of the Somat osensor y System\\nFROM WIKIBOOKS1\\nOur somatosensor ysystem consists ofsensors intheskin\\nand sensors inour muscles, tendons, and joints. The re-\\nceptors intheskin, thesocalled cutaneous receptors, tell\\nusabout temperature (thermorec eptors ),pressure and sur-\\nfacetexture (mechano receptors ),and pain (nocic eptors ).\\nThe receptors inmuscles and joints provide information\\nabout muscle length, muscle tension, and joint angles.\\nCutaneous r ecept ors\\nSensor yinformation from Meissner corpuscles and rapidly\\nadap ting afferents leads toadjustment ofgrip forcewhen\\nobjec tsare lifted. These afferents respond with abrief\\nburst ofaction potentials when objec tsmoveasmall dis-\\ntanc eduring the early stages oflifting. Inresponse to\\nFigure 1:Receptors inthehu-\\nman skin: Mechanorec eptors can\\nbefreereceptors orencapsulated.\\nExamples forfree receptors are\\nthehair receptors attheroots of\\nhairs. Encapsulated receptors are\\nthePacinian corpuscles and the\\nreceptors intheglabrous (hair-\\nless) skin: Meissner corpuscles,\\nRuffini corpuscles and Merk el’s\\ndisks.Hairy skin Glabrous skin\\nEpidermis\\nDermis\\nPacinian\\ncorpusclePapillary Ridges\\nSepta\\nRuffini ’s\\n corpuscle\\nHair receptorMeissne r’s\\ncorpuscleSebaceous\\nglandFree nerve\\nendingMerkel ’s\\nreceptor'),\n",
       " Document(metadata={'page': 1, 'source': 'book.pdf'}, page_content='Figure 2: Mammalian muscle\\nspindle showing typicalposition\\ninamuscle (left), neuronal con-\\nnections inspinal cord (middle )\\nand expanded schematic (right).\\nThespindle isastretch receptor\\nwith itsown motor supply con-\\nsisting ofseveral intrafusal mus-\\nclefibres. Thesensory endings of\\naprimary (group Ia)afferent and\\nasecondary (group II)afferent\\ncoilaround the non-c ontractile\\ncentral portions oftheintrafusal\\nfibres.\\nrapidly adap ting afferent activit y,muscle forceincreases\\nrefle xivelyuntil thegripped objec tnolonger moves.Such\\narapid response toatactilestimulus isaclear indication\\noftherole play edbysomatosensor yneurons inmotorac-\\ntivit y.\\nThe slowly adap ting Merk el’sreceptors areresponsible\\nforform and texture perc eption. Aswould beexpec tedfor\\nreceptors mediating form perc eption, Merk el’sreceptors\\narepresent athigh densit yinthe digits and around the\\nmouth (50/mm² ofskin surfac e),atlowerdensit yinoth-\\nerglabrous surfac es,and atverylowdensit yinhairyskin.\\nThis inner vations densit yshrinks progressiv elywith the\\npassage oftime sothat bytheageof50,thedensit yinhu-\\nman digits isreduc edto10/mm². Unlik erapidly adap ting\\naxons, slowly adap ting fibers respond notonly totheini-\\ntialindentation ofskin, butalso tosustained indentation\\nup to se veral sec onds in duration.\\nActivation ofthe rapidly adap ting Pacinian corpuscles\\ngivesafeeling ofvibration, while the slowly adap ting\\nRuffini corpuscles respond tothe lataral movement or\\nstretching of skin.\\nNocicept ors')]"
      ]
     },
     "execution_count": 6,
     "metadata": {},
     "output_type": "execute_result"
    }
   ],
   "source": [
    "query = \"What leads to adjustment of grip force?\"\n",
    "similar_docs = doc_search.similarity_search(query, k=3)\n",
    "similar_docs"
   ]
  },
  {
   "cell_type": "code",
   "execution_count": 9,
   "metadata": {},
   "outputs": [],
   "source": [
    "repo_id = \"meta-llama/Meta-Llama-3-8B-Instruct\" # \"tiiuae/falcon-7b\"\n",
    "llm = HuggingFaceHub(repo_id=repo_id, model_kwargs={'temperature': 0.8, 'max_length':1000}) \n",
    "retrieval_chain = RetrievalQA.from_chain_type(llm, chain_type='stuff', retriever=doc_search.as_retriever())\n",
    "\n",
    "\n",
    "# @cl.on_chat_start\n",
    "# def main():\n",
    "#     retrieval_chain = RetrievalQA.from_chain_type(llm, chain_type='stuff', retriever=doc_search.as_retriever())\n",
    "#     cl.user_session.set(\"retrieval_chain\", retrieval_chain)\n",
    "    \n",
    "# @cl.on_message\n",
    "# async def main(message:str):\n",
    "#     retrieval_chain = cl.user_session.get(\"retrieval_chain\")\n",
    "#     res = await retrieval_chain.acall(message, callbacks=\n",
    "#                                       [cl.AsyncLangchainCallbackHandler()])\n",
    "    \n",
    "#     #print(res)\n",
    "#     await cl.Message(content=res[\"result\"]).send()"
   ]
  },
  {
   "cell_type": "code",
   "execution_count": 10,
   "metadata": {},
   "outputs": [
    {
     "name": "stdout",
     "output_type": "stream",
     "text": [
      "Use the following pieces of context to answer the question at the end. If you don't know the answer, just say that you don't know, don't try to make up an answer.\n",
      "\n",
      "Force\n",
      "control\n",
      "signal\n",
      "Driving\n",
      "signal\n",
      "Length\n",
      "control\n",
      "signalLoadExternal\n",
      "forces\n",
      "Tendon\n",
      "organsMuscle forceMuscle\n",
      "lengthForce feedback\n",
      "Length &\n",
      "velocity\n",
      "feedbackForce (Golgi tendon organ)\n",
      "Spindles\n",
      "Gamma biasLength (secondary muscle-spindel afferents)\n",
      "Length error (primary muscle-spindel afferents)\n",
      "Velocity (primary muscle-spindel afferents)MuscleInter-\n",
      "neurons\n",
      "Figure 3:Feedback loops forproprioc eptiv esignals fortheperception and control oflimb move-\n",
      "ments. A rrows indic ate ex citatory c onnections; filled circles inhibitory c onnections.\n",
      "For more e xamples of how to use\n",
      "HTML and CSS for paper-based\n",
      "publishing, see css4.pub .stretched. The central region ofeach intrafusal fiber has\n",
      "fewmyofilaments and isnon-c ontrac tile, butitdoes have\n",
      "one ormore sensor yendings applied toit.When themus-\n",
      "cleisstretched, thecentral part oftheintrafusal fiber is\n",
      "stretched and each sensor y ending fires impulses.\n",
      "Muscle spindles also receiveamotorinner vation. The\n",
      "large motorneurons that supply extrafusal muscle fibers\n",
      "arecalled alpha motor neurons ,while thesmaller ones sup-\n",
      "plying the contrac tile portions ofintrafusal fibers are\n",
      "called gamma neurons .Gamma motorneurons can regu-\n",
      "late thesensitivit yofthemuscle spindle sothat this sensi-\n",
      "tivit y can be maintained at any giv en muscle length.\n",
      "Joint r ecept ors\n",
      "The joint receptors arelow-threshold mechanorec eptors\n",
      "and havebeen divided into fourgroups. Theysignal differ-\n",
      "entcharac teristics ofjoint func tion (position, movements,\n",
      "\n",
      "This is a sample document to\n",
      "showcase page-based formatting. It\n",
      "contains a chapter from a Wikibook\n",
      "called Sensory Systems . None of the\n",
      "content has been changed in this\n",
      "article, but some content has been\n",
      "remo ved.Anat omy of the Somat osensor y System\n",
      "FROM WIKIBOOKS1\n",
      "Our somatosensor ysystem consists ofsensors intheskin\n",
      "and sensors inour muscles, tendons, and joints. The re-\n",
      "ceptors intheskin, thesocalled cutaneous receptors, tell\n",
      "usabout temperature (thermorec eptors ),pressure and sur-\n",
      "facetexture (mechano receptors ),and pain (nocic eptors ).\n",
      "The receptors inmuscles and joints provide information\n",
      "about muscle length, muscle tension, and joint angles.\n",
      "Cutaneous r ecept ors\n",
      "Sensor yinformation from Meissner corpuscles and rapidly\n",
      "adap ting afferents leads toadjustment ofgrip forcewhen\n",
      "objec tsare lifted. These afferents respond with abrief\n",
      "burst ofaction potentials when objec tsmoveasmall dis-\n",
      "tanc eduring the early stages oflifting. Inresponse to\n",
      "Figure 1:Receptors inthehu-\n",
      "man skin: Mechanorec eptors can\n",
      "befreereceptors orencapsulated.\n",
      "Examples forfree receptors are\n",
      "thehair receptors attheroots of\n",
      "hairs. Encapsulated receptors are\n",
      "thePacinian corpuscles and the\n",
      "receptors intheglabrous (hair-\n",
      "less) skin: Meissner corpuscles,\n",
      "Ruffini corpuscles and Merk el’s\n",
      "disks.Hairy skin Glabrous skin\n",
      "Epidermis\n",
      "Dermis\n",
      "Pacinian\n",
      "corpusclePapillary Ridges\n",
      "Septa\n",
      "Ruffini ’s\n",
      " corpuscle\n",
      "Hair receptorMeissne r’s\n",
      "corpuscleSebaceous\n",
      "glandFree nerve\n",
      "endingMerkel ’s\n",
      "receptor\n",
      "\n",
      "Figure 2: Mammalian muscle\n",
      "spindle showing typicalposition\n",
      "inamuscle (left), neuronal con-\n",
      "nections inspinal cord (middle )\n",
      "and expanded schematic (right).\n",
      "Thespindle isastretch receptor\n",
      "with itsown motor supply con-\n",
      "sisting ofseveral intrafusal mus-\n",
      "clefibres. Thesensory endings of\n",
      "aprimary (group Ia)afferent and\n",
      "asecondary (group II)afferent\n",
      "coilaround the non-c ontractile\n",
      "central portions oftheintrafusal\n",
      "fibres.\n",
      "rapidly adap ting afferent activit y,muscle forceincreases\n",
      "refle xivelyuntil thegripped objec tnolonger moves.Such\n",
      "arapid response toatactilestimulus isaclear indication\n",
      "oftherole play edbysomatosensor yneurons inmotorac-\n",
      "tivit y.\n",
      "The slowly adap ting Merk el’sreceptors areresponsible\n",
      "forform and texture perc eption. Aswould beexpec tedfor\n",
      "receptors mediating form perc eption, Merk el’sreceptors\n",
      "arepresent athigh densit yinthe digits and around the\n",
      "mouth (50/mm² ofskin surfac e),atlowerdensit yinoth-\n",
      "erglabrous surfac es,and atverylowdensit yinhairyskin.\n",
      "This inner vations densit yshrinks progressiv elywith the\n",
      "passage oftime sothat bytheageof50,thedensit yinhu-\n",
      "man digits isreduc edto10/mm². Unlik erapidly adap ting\n",
      "axons, slowly adap ting fibers respond notonly totheini-\n",
      "tialindentation ofskin, butalso tosustained indentation\n",
      "up to se veral sec onds in duration.\n",
      "Activation ofthe rapidly adap ting Pacinian corpuscles\n",
      "givesafeeling ofvibration, while the slowly adap ting\n",
      "Ruffini corpuscles respond tothe lataral movement or\n",
      "stretching of skin.\n",
      "Nocicept ors\n",
      "\n",
      "Rapidly adap ting Slowly adap ting\n",
      "Surfac ereceptor/\n",
      "small rec eptive\n",
      "fieldHair rec eptor ,Meissner’s c orpuscle : De-\n",
      "tect an insec t or a v ery fine vibration.\n",
      "Used f or rec ognizing te xture.Merk el’s rec eptor: Used f or spa-\n",
      "tial details, e.g. a round surfac e\n",
      "edge or “ an X” in brail.\n",
      "Deep rec eptor /\n",
      "large rec eptive\n",
      "fieldPacinian c orpuscle : “A diffuse vibra-\n",
      "tion” e.g. tapping with a pencil.Ruffini’s c orpuscle : “A skin\n",
      "stretch” . Used f or joint position\n",
      "in fingers.\n",
      "Table 1\n",
      "Notice how figure captions and\n",
      "sidenotes are shown in the outside\n",
      "margin ( on the left or right, depending\n",
      "on whether the page is left or right).\n",
      "Also, figures are floated to the top/\n",
      "bottom of the page. Wide content, lik e\n",
      "the table and Figure 3, intrude into the\n",
      "outside margins.orpolymodal receptors .Polymodal receptors respond not\n",
      "only tointense mechanical stimuli, but also toheat and\n",
      "tonoxious chemicals. These receptors respond tominute\n",
      "punc tures ofthe epithelium, with aresponse magnitude\n",
      "that depends onthedegree oftissue deformation. Theyal-\n",
      "sorespond totemperatures intherange of40–60°C, and\n",
      "change their response rates asalinear func tion ofwarm-\n",
      "ing(incontrast with thesaturating responses display edby\n",
      "non-no xious thermorec eptors at high temperatures).\n",
      "Painsignals can beseparated into individual compo-\n",
      "nents, corresponding todifferent types ofnervefibers\n",
      "used fortransmit ting these signals. The rapidly transmit-\n",
      "ted signal, which often has high spatial resolution, is\n",
      "\n",
      "Question: What leads to adjustment of grip force?\n",
      "Helpful Answer: Sensor yinformation from Meissner corpuscles and rapidly adap ting afferents leads to adjustment of grip force when objec tsare lifted. These afferents respond with abrief burst ofaction potentials when objec tsmoveasmall dis- tanc eduring the early stages oflifting. Inresponse to this inner vation, muscle forceincreases refle xivelyuntil thegripped objec tnolonger moves. Previously, it was not clear whether this adjustment was dependent\n"
     ]
    }
   ],
   "source": [
    "print(retrieval_chain.run(\"What leads to adjustment of grip force?\"))"
   ]
  },
  {
   "cell_type": "code",
   "execution_count": 66,
   "metadata": {},
   "outputs": [
    {
     "name": "stdout",
     "output_type": "stream",
     "text": [
      "^C\n"
     ]
    }
   ],
   "source": [
    "! chainlit run .\\chatbot.py -w --port 8080"
   ]
  }
 ],
 "metadata": {
  "kernelspec": {
   "display_name": "base",
   "language": "python",
   "name": "python3"
  },
  "language_info": {
   "codemirror_mode": {
    "name": "ipython",
    "version": 3
   },
   "file_extension": ".py",
   "mimetype": "text/x-python",
   "name": "python",
   "nbconvert_exporter": "python",
   "pygments_lexer": "ipython3",
   "version": "3.10.4"
  }
 },
 "nbformat": 4,
 "nbformat_minor": 2
}
